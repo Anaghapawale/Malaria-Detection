{
 "cells": [
  {
   "cell_type": "markdown",
   "metadata": {},
   "source": [
    "# Creating CNN Using Scratch and Transfer Learning"
   ]
  },
  {
   "cell_type": "code",
   "execution_count": 84,
   "metadata": {},
   "outputs": [],
   "source": [
    "# import the below liabraries\n",
    "from tensorflow.keras.layers import Input,Lambda, Dense, Flatten, Conv2D\n",
    "from tensorflow.keras.models import Model\n",
    "from tensorflow.keras.applications.vgg19 import VGG19\n",
    "from tensorflow.keras.applications.resnet50 import preprocess_input\n",
    "from tensorflow.keras.preprocessing import image\n",
    "from tensorflow.keras.preprocessing.image import ImageDataGenerator,load_img\n",
    "from tensorflow.keras.models import Sequential\n",
    "import numpy as np\n",
    "from glob import glob\n",
    "import matplotlib.pyplot as plt"
   ]
  },
  {
   "cell_type": "code",
   "execution_count": 85,
   "metadata": {},
   "outputs": [],
   "source": [
    "# re-size all the images\n",
    "IMAGE_SIZE=[224,224]\n",
    "\n",
    "train_path='C:/Users/Lenovo/Desktop/Project/Malaria Disease detection using Deep Learning/Dataset/Train.csv'\n",
    "valid_path='C:/Users/Lenovo/Desktop/Project/Malaria Disease detection using Deep Learning/Dataset/Test.csv'"
   ]
  },
  {
   "cell_type": "code",
   "execution_count": 86,
   "metadata": {},
   "outputs": [],
   "source": [
    "#here we will add vgg19 liabrary and add the preprocessing layer in the front of VGG.\n",
    "#We are using imagenet weights\n",
    "\n",
    "mobilnet = VGG19(input_shape=IMAGE_SIZE + [3], weights='imagenet', include_top=False)"
   ]
  },
  {
   "cell_type": "code",
   "execution_count": 87,
   "metadata": {},
   "outputs": [],
   "source": [
    "# don't train existing weights\n",
    "for layer in mobilnet.layers:\n",
    "    layer.trainable = False"
   ]
  },
  {
   "cell_type": "code",
   "execution_count": 88,
   "metadata": {},
   "outputs": [],
   "source": [
    "# useful for getting the number of output classes\n",
    "folders = glob('C:/Users/Lenovo/Desktop/Project/Malaria Disease detection using Deep Learning/Dataset/Train/*')"
   ]
  },
  {
   "cell_type": "code",
   "execution_count": 89,
   "metadata": {},
   "outputs": [
    {
     "data": {
      "text/plain": [
       "['C:/Users/Lenovo/Desktop/Project/Malaria Disease detection using Deep Learning/Dataset/Train\\\\Parasite',\n",
       " 'C:/Users/Lenovo/Desktop/Project/Malaria Disease detection using Deep Learning/Dataset/Train\\\\Uninfected']"
      ]
     },
     "execution_count": 89,
     "metadata": {},
     "output_type": "execute_result"
    }
   ],
   "source": [
    "folders"
   ]
  },
  {
   "cell_type": "code",
   "execution_count": 90,
   "metadata": {},
   "outputs": [],
   "source": [
    "# our layers - you can add more if you want\n",
    "x = Flatten()(mobilnet.output)"
   ]
  },
  {
   "cell_type": "code",
   "execution_count": 91,
   "metadata": {},
   "outputs": [],
   "source": [
    "prediction = Dense(len(folders), activation='softmax')(x)\n",
    "\n",
    "# create the model object\n",
    "model = Model(inputs=mobilnet.input, outputs=prediction)"
   ]
  },
  {
   "cell_type": "code",
   "execution_count": 92,
   "metadata": {},
   "outputs": [
    {
     "name": "stdout",
     "output_type": "stream",
     "text": [
      "Model: \"model_2\"\n",
      "_________________________________________________________________\n",
      "Layer (type)                 Output Shape              Param #   \n",
      "=================================================================\n",
      "input_3 (InputLayer)         [(None, 224, 224, 3)]     0         \n",
      "_________________________________________________________________\n",
      "block1_conv1 (Conv2D)        (None, 224, 224, 64)      1792      \n",
      "_________________________________________________________________\n",
      "block1_conv2 (Conv2D)        (None, 224, 224, 64)      36928     \n",
      "_________________________________________________________________\n",
      "block1_pool (MaxPooling2D)   (None, 112, 112, 64)      0         \n",
      "_________________________________________________________________\n",
      "block2_conv1 (Conv2D)        (None, 112, 112, 128)     73856     \n",
      "_________________________________________________________________\n",
      "block2_conv2 (Conv2D)        (None, 112, 112, 128)     147584    \n",
      "_________________________________________________________________\n",
      "block2_pool (MaxPooling2D)   (None, 56, 56, 128)       0         \n",
      "_________________________________________________________________\n",
      "block3_conv1 (Conv2D)        (None, 56, 56, 256)       295168    \n",
      "_________________________________________________________________\n",
      "block3_conv2 (Conv2D)        (None, 56, 56, 256)       590080    \n",
      "_________________________________________________________________\n",
      "block3_conv3 (Conv2D)        (None, 56, 56, 256)       590080    \n",
      "_________________________________________________________________\n",
      "block3_conv4 (Conv2D)        (None, 56, 56, 256)       590080    \n",
      "_________________________________________________________________\n",
      "block3_pool (MaxPooling2D)   (None, 28, 28, 256)       0         \n",
      "_________________________________________________________________\n",
      "block4_conv1 (Conv2D)        (None, 28, 28, 512)       1180160   \n",
      "_________________________________________________________________\n",
      "block4_conv2 (Conv2D)        (None, 28, 28, 512)       2359808   \n",
      "_________________________________________________________________\n",
      "block4_conv3 (Conv2D)        (None, 28, 28, 512)       2359808   \n",
      "_________________________________________________________________\n",
      "block4_conv4 (Conv2D)        (None, 28, 28, 512)       2359808   \n",
      "_________________________________________________________________\n",
      "block4_pool (MaxPooling2D)   (None, 14, 14, 512)       0         \n",
      "_________________________________________________________________\n",
      "block5_conv1 (Conv2D)        (None, 14, 14, 512)       2359808   \n",
      "_________________________________________________________________\n",
      "block5_conv2 (Conv2D)        (None, 14, 14, 512)       2359808   \n",
      "_________________________________________________________________\n",
      "block5_conv3 (Conv2D)        (None, 14, 14, 512)       2359808   \n",
      "_________________________________________________________________\n",
      "block5_conv4 (Conv2D)        (None, 14, 14, 512)       2359808   \n",
      "_________________________________________________________________\n",
      "block5_pool (MaxPooling2D)   (None, 7, 7, 512)         0         \n",
      "_________________________________________________________________\n",
      "flatten_4 (Flatten)          (None, 25088)             0         \n",
      "_________________________________________________________________\n",
      "dense_8 (Dense)              (None, 2)                 50178     \n",
      "=================================================================\n",
      "Total params: 20,074,562\n",
      "Trainable params: 50,178\n",
      "Non-trainable params: 20,024,384\n",
      "_________________________________________________________________\n"
     ]
    }
   ],
   "source": [
    "# view the structure of the model\n",
    "model.summary()"
   ]
  },
  {
   "cell_type": "code",
   "execution_count": 93,
   "metadata": {},
   "outputs": [],
   "source": [
    "from tensorflow.keras.layers import MaxPooling2D"
   ]
  },
  {
   "cell_type": "code",
   "execution_count": 94,
   "metadata": {},
   "outputs": [
    {
     "name": "stdout",
     "output_type": "stream",
     "text": [
      "Model: \"sequential_4\"\n",
      "_________________________________________________________________\n",
      "Layer (type)                 Output Shape              Param #   \n",
      "=================================================================\n",
      "conv2d_6 (Conv2D)            (None, 224, 224, 16)      208       \n",
      "_________________________________________________________________\n",
      "max_pooling2d_6 (MaxPooling2 (None, 112, 112, 16)      0         \n",
      "_________________________________________________________________\n",
      "conv2d_7 (Conv2D)            (None, 112, 112, 32)      2080      \n",
      "_________________________________________________________________\n",
      "max_pooling2d_7 (MaxPooling2 (None, 56, 56, 32)        0         \n",
      "_________________________________________________________________\n",
      "conv2d_8 (Conv2D)            (None, 56, 56, 64)        8256      \n",
      "_________________________________________________________________\n",
      "max_pooling2d_8 (MaxPooling2 (None, 28, 28, 64)        0         \n",
      "_________________________________________________________________\n",
      "flatten_5 (Flatten)          (None, 50176)             0         \n",
      "_________________________________________________________________\n",
      "dense_9 (Dense)              (None, 500)               25088500  \n",
      "_________________________________________________________________\n",
      "dense_10 (Dense)             (None, 2)                 1002      \n",
      "=================================================================\n",
      "Total params: 25,100,046\n",
      "Trainable params: 25,100,046\n",
      "Non-trainable params: 0\n",
      "_________________________________________________________________\n"
     ]
    }
   ],
   "source": [
    "# create the model from scratch using CNN\n",
    "model = Sequential()\n",
    "model.add(Conv2D(filters=16,kernel_size=2,padding='same',activation='relu',input_shape=(224,224,3)))\n",
    "model.add(MaxPooling2D(pool_size=2))\n",
    "model.add(Conv2D(filters=32,kernel_size=2,padding='same',activation='relu'))\n",
    "model.add(MaxPooling2D(pool_size=2))\n",
    "model.add(Conv2D(filters=64,kernel_size=2,padding='same',activation='relu'))\n",
    "model.add(MaxPooling2D(pool_size=2))\n",
    "model.add(Flatten())\n",
    "model.add(Dense(500,activation='relu'))\n",
    "model.add(Dense(2,activation='softmax'))\n",
    "model.summary()"
   ]
  },
  {
   "cell_type": "code",
   "execution_count": 95,
   "metadata": {},
   "outputs": [],
   "source": [
    "# tell the model what cost and optimization method to use\n",
    "model.compile(\n",
    "    loss='categorical_crossentropy',\n",
    "    optimizer='adam',\n",
    "    metrics=['accuracy']\n",
    ")"
   ]
  },
  {
   "cell_type": "code",
   "execution_count": 96,
   "metadata": {},
   "outputs": [],
   "source": [
    "# Use the Image Data Generator to import the images from the Dataset\n",
    "from tensorflow.keras.preprocessing.image import ImageDataGenerator\n",
    "train_datagen = ImageDataGenerator(rescale=1./255,\n",
    "                                shear_range = 0.2,\n",
    "                                zoom_range = 0.2,\n",
    "                                horizontal_flip=True)\n",
    "\n",
    "test_datagen = ImageDataGenerator(rescale=1./255)"
   ]
  },
  {
   "cell_type": "code",
   "execution_count": 97,
   "metadata": {},
   "outputs": [
    {
     "name": "stdout",
     "output_type": "stream",
     "text": [
      "Found 416 images belonging to 2 classes.\n"
     ]
    }
   ],
   "source": [
    "# Make sure you should provide the same target size as initailized for image size\n",
    "training_set = train_datagen.flow_from_directory('C:/Users/Lenovo/Desktop/Project/Malaria Disease detection using Deep Learning/Dataset/Train',\n",
    "                                                target_size = (224,224),\n",
    "                                                batch_size = 32,\n",
    "                                                class_mode = 'categorical')"
   ]
  },
  {
   "cell_type": "code",
   "execution_count": 98,
   "metadata": {},
   "outputs": [
    {
     "data": {
      "text/plain": [
       "<keras_preprocessing.image.directory_iterator.DirectoryIterator at 0x25e0085d2c8>"
      ]
     },
     "execution_count": 98,
     "metadata": {},
     "output_type": "execute_result"
    }
   ],
   "source": [
    "training_set"
   ]
  },
  {
   "cell_type": "code",
   "execution_count": 99,
   "metadata": {},
   "outputs": [
    {
     "name": "stdout",
     "output_type": "stream",
     "text": [
      "Found 134 images belonging to 2 classes.\n"
     ]
    }
   ],
   "source": [
    "test_set = test_datagen.flow_from_directory('C:/Users/Lenovo/Desktop/Project/Malaria Disease detection using Deep Learning/Dataset/Test',\n",
    "                                           target_size = (224,224),\n",
    "                                           batch_size = 32,\n",
    "                                           class_mode = 'categorical')"
   ]
  },
  {
   "cell_type": "code",
   "execution_count": 100,
   "metadata": {},
   "outputs": [
    {
     "data": {
      "text/plain": [
       "<keras_preprocessing.image.directory_iterator.DirectoryIterator at 0x25e0190a948>"
      ]
     },
     "execution_count": 100,
     "metadata": {},
     "output_type": "execute_result"
    }
   ],
   "source": [
    "test_set"
   ]
  },
  {
   "cell_type": "code",
   "execution_count": 101,
   "metadata": {},
   "outputs": [
    {
     "name": "stdout",
     "output_type": "stream",
     "text": [
      "Epoch 1/50\n",
      "13/13 [==============================] - 27s 2s/step - loss: 1.2443 - accuracy: 0.4880 - val_loss: 0.8151 - val_accuracy: 0.3284\n",
      "Epoch 2/50\n",
      "13/13 [==============================] - 17s 1s/step - loss: 0.6906 - accuracy: 0.5288 - val_loss: 0.6681 - val_accuracy: 0.6716\n",
      "Epoch 3/50\n",
      "13/13 [==============================] - 19s 1s/step - loss: 0.6717 - accuracy: 0.5913 - val_loss: 0.6734 - val_accuracy: 0.6716\n",
      "Epoch 4/50\n",
      "13/13 [==============================] - 19s 1s/step - loss: 0.6469 - accuracy: 0.5938 - val_loss: 0.7144 - val_accuracy: 0.3806\n",
      "Epoch 5/50\n",
      "13/13 [==============================] - 20s 2s/step - loss: 0.5764 - accuracy: 0.6875 - val_loss: 0.8051 - val_accuracy: 0.4030\n",
      "Epoch 6/50\n",
      "13/13 [==============================] - 19s 1s/step - loss: 0.5619 - accuracy: 0.6803 - val_loss: 1.0480 - val_accuracy: 0.3657\n",
      "Epoch 7/50\n",
      "13/13 [==============================] - 18s 1s/step - loss: 0.6337 - accuracy: 0.6514 - val_loss: 0.8964 - val_accuracy: 0.3582\n",
      "Epoch 8/50\n",
      "13/13 [==============================] - 19s 1s/step - loss: 0.5022 - accuracy: 0.7380 - val_loss: 1.0212 - val_accuracy: 0.3358\n",
      "Epoch 9/50\n",
      "13/13 [==============================] - 18s 1s/step - loss: 0.4838 - accuracy: 0.7716 - val_loss: 1.1112 - val_accuracy: 0.3806\n",
      "Epoch 10/50\n",
      "13/13 [==============================] - 19s 1s/step - loss: 0.4440 - accuracy: 0.7788 - val_loss: 1.2183 - val_accuracy: 0.3657\n",
      "Epoch 11/50\n",
      "13/13 [==============================] - 19s 1s/step - loss: 0.4055 - accuracy: 0.8005 - val_loss: 0.8165 - val_accuracy: 0.4552\n",
      "Epoch 12/50\n",
      "13/13 [==============================] - 18s 1s/step - loss: 0.3972 - accuracy: 0.8197 - val_loss: 0.9103 - val_accuracy: 0.4030\n",
      "Epoch 13/50\n",
      "13/13 [==============================] - 18s 1s/step - loss: 0.3422 - accuracy: 0.8486 - val_loss: 0.7454 - val_accuracy: 0.5075\n",
      "Epoch 14/50\n",
      "13/13 [==============================] - 18s 1s/step - loss: 0.3229 - accuracy: 0.8702 - val_loss: 1.0453 - val_accuracy: 0.4328\n",
      "Epoch 15/50\n",
      "13/13 [==============================] - 19s 1s/step - loss: 0.3039 - accuracy: 0.8726 - val_loss: 0.7299 - val_accuracy: 0.5746\n",
      "Epoch 16/50\n",
      "13/13 [==============================] - 19s 1s/step - loss: 0.2731 - accuracy: 0.8870 - val_loss: 0.8179 - val_accuracy: 0.6418\n",
      "Epoch 17/50\n",
      "13/13 [==============================] - 19s 1s/step - loss: 0.2734 - accuracy: 0.8894 - val_loss: 0.8463 - val_accuracy: 0.5448\n",
      "Epoch 18/50\n",
      "13/13 [==============================] - 18s 1s/step - loss: 0.2439 - accuracy: 0.9062 - val_loss: 0.6095 - val_accuracy: 0.6642\n",
      "Epoch 19/50\n",
      "13/13 [==============================] - 18s 1s/step - loss: 0.2294 - accuracy: 0.9159 - val_loss: 0.4998 - val_accuracy: 0.7612\n",
      "Epoch 20/50\n",
      "13/13 [==============================] - 20s 2s/step - loss: 0.2245 - accuracy: 0.9159 - val_loss: 0.5669 - val_accuracy: 0.7313\n",
      "Epoch 21/50\n",
      "13/13 [==============================] - 19s 1s/step - loss: 0.1636 - accuracy: 0.9447 - val_loss: 0.4669 - val_accuracy: 0.7537\n",
      "Epoch 22/50\n",
      "13/13 [==============================] - 18s 1s/step - loss: 0.1314 - accuracy: 0.9567 - val_loss: 0.3371 - val_accuracy: 0.8358\n",
      "Epoch 23/50\n",
      "13/13 [==============================] - 19s 1s/step - loss: 0.1404 - accuracy: 0.9543 - val_loss: 0.3163 - val_accuracy: 0.8582\n",
      "Epoch 24/50\n",
      "13/13 [==============================] - 18s 1s/step - loss: 0.1355 - accuracy: 0.9615 - val_loss: 0.3414 - val_accuracy: 0.8507\n",
      "Epoch 25/50\n",
      "13/13 [==============================] - 18s 1s/step - loss: 0.1547 - accuracy: 0.9375 - val_loss: 0.2606 - val_accuracy: 0.9030\n",
      "Epoch 26/50\n",
      "13/13 [==============================] - 21s 2s/step - loss: 0.0922 - accuracy: 0.9688 - val_loss: 0.2475 - val_accuracy: 0.8955\n",
      "Epoch 27/50\n",
      "13/13 [==============================] - 26s 2s/step - loss: 0.0893 - accuracy: 0.9663 - val_loss: 0.1940 - val_accuracy: 0.9104\n",
      "Epoch 28/50\n",
      "13/13 [==============================] - 23s 2s/step - loss: 0.0545 - accuracy: 0.9808 - val_loss: 0.3266 - val_accuracy: 0.8582\n",
      "Epoch 29/50\n",
      "13/13 [==============================] - 21s 2s/step - loss: 0.0840 - accuracy: 0.9760 - val_loss: 0.1935 - val_accuracy: 0.9030\n",
      "Epoch 30/50\n",
      "13/13 [==============================] - 21s 2s/step - loss: 0.0777 - accuracy: 0.9736 - val_loss: 0.1593 - val_accuracy: 0.9328\n",
      "Epoch 31/50\n",
      "13/13 [==============================] - 27s 2s/step - loss: 0.0420 - accuracy: 0.9880 - val_loss: 0.2117 - val_accuracy: 0.8955\n",
      "Epoch 32/50\n",
      "13/13 [==============================] - 43s 3s/step - loss: 0.0711 - accuracy: 0.9712 - val_loss: 0.2159 - val_accuracy: 0.9254\n",
      "Epoch 33/50\n",
      "13/13 [==============================] - 2079s 160s/step - loss: 0.0491 - accuracy: 0.9856 - val_loss: 0.2403 - val_accuracy: 0.8881\n",
      "Epoch 34/50\n",
      "13/13 [==============================] - 33s 3s/step - loss: 0.0762 - accuracy: 0.9832 - val_loss: 0.2561 - val_accuracy: 0.8881\n",
      "Epoch 35/50\n",
      "13/13 [==============================] - 51s 4s/step - loss: 0.0681 - accuracy: 0.9760 - val_loss: 0.2260 - val_accuracy: 0.8881\n",
      "Epoch 36/50\n",
      "13/13 [==============================] - 45s 3s/step - loss: 0.0417 - accuracy: 0.9904 - val_loss: 0.4486 - val_accuracy: 0.8358\n",
      "Epoch 37/50\n",
      "13/13 [==============================] - 31s 2s/step - loss: 0.0970 - accuracy: 0.9615 - val_loss: 0.2685 - val_accuracy: 0.8955\n",
      "Epoch 38/50\n",
      "13/13 [==============================] - 31s 2s/step - loss: 0.0541 - accuracy: 0.9808 - val_loss: 0.1427 - val_accuracy: 0.9403\n",
      "Epoch 39/50\n",
      "13/13 [==============================] - 32s 2s/step - loss: 0.0332 - accuracy: 0.9904 - val_loss: 0.1420 - val_accuracy: 0.9328\n",
      "Epoch 40/50\n",
      "13/13 [==============================] - 31s 2s/step - loss: 0.0189 - accuracy: 0.9976 - val_loss: 0.1476 - val_accuracy: 0.9328\n",
      "Epoch 41/50\n",
      "13/13 [==============================] - 31s 2s/step - loss: 0.0164 - accuracy: 0.9976 - val_loss: 0.2013 - val_accuracy: 0.9254\n",
      "Epoch 42/50\n",
      "13/13 [==============================] - 38s 3s/step - loss: 0.0211 - accuracy: 0.9928 - val_loss: 0.1377 - val_accuracy: 0.9478\n",
      "Epoch 43/50\n",
      "13/13 [==============================] - 46s 4s/step - loss: 0.0754 - accuracy: 0.9808 - val_loss: 0.2526 - val_accuracy: 0.9030\n",
      "Epoch 44/50\n",
      "13/13 [==============================] - 35s 3s/step - loss: 0.0835 - accuracy: 0.9736 - val_loss: 0.1646 - val_accuracy: 0.9179\n",
      "Epoch 45/50\n",
      "13/13 [==============================] - 35s 3s/step - loss: 0.0265 - accuracy: 0.9952 - val_loss: 0.2572 - val_accuracy: 0.9254\n",
      "Epoch 46/50\n",
      "13/13 [==============================] - 35s 3s/step - loss: 0.0206 - accuracy: 0.9952 - val_loss: 0.1992 - val_accuracy: 0.9328\n",
      "Epoch 47/50\n",
      "13/13 [==============================] - 36s 3s/step - loss: 0.0633 - accuracy: 0.9688 - val_loss: 0.3804 - val_accuracy: 0.8806\n",
      "Epoch 48/50\n",
      "13/13 [==============================] - 35s 3s/step - loss: 0.0824 - accuracy: 0.9688 - val_loss: 0.3437 - val_accuracy: 0.8955\n",
      "Epoch 49/50\n",
      "13/13 [==============================] - 38s 3s/step - loss: 0.0314 - accuracy: 0.9904 - val_loss: 0.2620 - val_accuracy: 0.9030\n",
      "Epoch 50/50\n",
      "13/13 [==============================] - 35s 3s/step - loss: 0.0445 - accuracy: 0.9880 - val_loss: 0.3926 - val_accuracy: 0.8881\n"
     ]
    }
   ],
   "source": [
    "# fit the model\n",
    "# Run each cell, it will take some time to execute\n",
    "r = model.fit_generator(\n",
    "    training_set,\n",
    "    validation_data=test_set,\n",
    "    epochs=50,\n",
    "    steps_per_epoch=len(training_set),\n",
    "    validation_steps=len(test_set)\n",
    ")"
   ]
  },
  {
   "cell_type": "code",
   "execution_count": 102,
   "metadata": {},
   "outputs": [
    {
     "data": {
      "image/png": "[encoded data removed]",
      "text/plain": [
       "<Figure size 432x288 with 1 Axes>"
      ]
     },
     "metadata": {
      "needs_background": "light"
     },
     "output_type": "display_data"
    },
    {
     "data": {
      "image/png": "[encoded data removed]",
      "text/plain": [
       "<Figure size 432x288 with 1 Axes>"
      ]
     },
     "metadata": {
      "needs_background": "light"
     },
     "output_type": "display_data"
    },
    {
     "data": {
      "text/plain": [
       "<Figure size 432x288 with 0 Axes>"
      ]
     },
     "metadata": {},
     "output_type": "display_data"
    }
   ],
   "source": [
    "#plot the loss\n",
    "plt.plot(r.history['loss'],label='train_loss')\n",
    "plt.plot(r.history['val_loss'],label='val_loss')\n",
    "plt.legend()\n",
    "plt.show()\n",
    "plt.savefig('LossVal_loss')\n",
    "\n",
    "#plot the accuracy\n",
    "plt.plot(r.history['accuracy'],label='train acc')\n",
    "plt.plot(r.history['val_accuracy'], label='val acc')\n",
    "plt.legend()\n",
    "plt.show()\n",
    "plt.savefig('AccVal_acc')"
   ]
  },
  {
   "cell_type": "code",
   "execution_count": 103,
   "metadata": {},
   "outputs": [],
   "source": [
    "# save it as h5 file\n",
    "from tensorflow.keras.models import load_model\n",
    "\n",
    "model.save('model_vgg19.h5')"
   ]
  },
  {
   "cell_type": "code",
   "execution_count": 104,
   "metadata": {},
   "outputs": [],
   "source": [
    "y_pred = model.predict(test_set)"
   ]
  },
  {
   "cell_type": "code",
   "execution_count": 105,
   "metadata": {},
   "outputs": [
    {
     "data": {
      "text/plain": [
       "array([[9.99984503e-01, 1.55249945e-05],\n",
       "       [7.49498427e-01, 2.50501633e-01],\n",
       "       [1.63117871e-01, 8.36882174e-01],\n",
       "       [1.00000000e+00, 2.08262977e-22],\n",
       "       [9.99825299e-01, 1.74675355e-04],\n",
       "       [9.98684466e-01, 1.31553365e-03],\n",
       "       [9.99984980e-01, 1.50256083e-05],\n",
       "       [9.10198875e-03, 9.90898073e-01],\n",
       "       [1.50223747e-01, 8.49776268e-01],\n",
       "       [3.16333910e-03, 9.96836662e-01],\n",
       "       [1.35066286e-01, 8.64933729e-01],\n",
       "       [1.00000000e+00, 3.20349658e-09],\n",
       "       [1.94544951e-03, 9.98054624e-01],\n",
       "       [4.45412062e-02, 9.55458760e-01],\n",
       "       [8.24266765e-03, 9.91757333e-01],\n",
       "       [7.23056635e-03, 9.92769480e-01],\n",
       "       [3.45939700e-03, 9.96540606e-01],\n",
       "       [9.99999285e-01, 7.51727612e-07],\n",
       "       [1.00000000e+00, 1.94915715e-14],\n",
       "       [9.99868870e-01, 1.31071414e-04],\n",
       "       [9.99593198e-01, 4.06793319e-04],\n",
       "       [9.99399185e-01, 6.00858475e-04],\n",
       "       [8.07497464e-03, 9.91925061e-01],\n",
       "       [9.99096870e-01, 9.03171836e-04],\n",
       "       [9.99986172e-01, 1.38526875e-05],\n",
       "       [1.51837505e-02, 9.84816313e-01],\n",
       "       [9.98133719e-01, 1.86624913e-03],\n",
       "       [1.00000000e+00, 4.08004325e-10],\n",
       "       [9.99788582e-01, 2.11405481e-04],\n",
       "       [4.67315177e-03, 9.95326877e-01],\n",
       "       [1.00000000e+00, 4.47296161e-15],\n",
       "       [9.99716341e-01, 2.83621484e-04],\n",
       "       [6.69229686e-01, 3.30770284e-01],\n",
       "       [9.98743474e-01, 1.25657977e-03],\n",
       "       [2.18142802e-03, 9.97818589e-01],\n",
       "       [1.00000000e+00, 3.66379416e-09],\n",
       "       [1.42213777e-01, 8.57786238e-01],\n",
       "       [9.99996543e-01, 3.44566524e-06],\n",
       "       [1.00000000e+00, 3.44166047e-08],\n",
       "       [3.83397797e-04, 9.99616623e-01],\n",
       "       [1.00000000e+00, 1.35601572e-10],\n",
       "       [6.23295486e-01, 3.76704514e-01],\n",
       "       [1.00000000e+00, 2.04316470e-16],\n",
       "       [6.01352081e-02, 9.39864755e-01],\n",
       "       [2.53376402e-02, 9.74662364e-01],\n",
       "       [1.00000000e+00, 5.10594056e-09],\n",
       "       [9.99965787e-01, 3.42251187e-05],\n",
       "       [1.00000000e+00, 2.09533901e-08],\n",
       "       [4.06777224e-04, 9.99593198e-01],\n",
       "       [9.99994755e-01, 5.24634697e-06],\n",
       "       [3.23935181e-01, 6.76064789e-01],\n",
       "       [2.34076899e-04, 9.99765933e-01],\n",
       "       [7.67607382e-03, 9.92323875e-01],\n",
       "       [7.05183029e-01, 2.94816941e-01],\n",
       "       [9.78136003e-01, 2.18639653e-02],\n",
       "       [1.00000000e+00, 1.21122756e-09],\n",
       "       [3.28197807e-01, 6.71802282e-01],\n",
       "       [4.29007364e-03, 9.95709896e-01],\n",
       "       [2.57520266e-02, 9.74247932e-01],\n",
       "       [1.00000000e+00, 2.86176742e-11],\n",
       "       [9.99998689e-01, 1.25671693e-06],\n",
       "       [9.99990225e-01, 9.76449519e-06],\n",
       "       [9.99981523e-01, 1.84547680e-05],\n",
       "       [1.00000000e+00, 9.76844994e-11],\n",
       "       [5.86109698e-01, 4.13890332e-01],\n",
       "       [1.00000000e+00, 3.31927659e-08],\n",
       "       [1.19960252e-02, 9.88003969e-01],\n",
       "       [1.00000000e+00, 3.36562751e-17],\n",
       "       [6.20675147e-01, 3.79324943e-01],\n",
       "       [9.63320676e-03, 9.90366817e-01],\n",
       "       [9.99958396e-01, 4.16063776e-05],\n",
       "       [9.52488743e-03, 9.90475118e-01],\n",
       "       [4.02798178e-03, 9.95971978e-01],\n",
       "       [1.00000000e+00, 5.43945866e-08],\n",
       "       [3.36098857e-03, 9.96639013e-01],\n",
       "       [9.46154003e-04, 9.99053895e-01],\n",
       "       [9.99997497e-01, 2.54630186e-06],\n",
       "       [3.19743343e-02, 9.68025625e-01],\n",
       "       [9.52831447e-01, 4.71685082e-02],\n",
       "       [9.99964118e-01, 3.58244506e-05],\n",
       "       [9.99998450e-01, 1.49600021e-06],\n",
       "       [2.62869685e-03, 9.97371316e-01],\n",
       "       [9.99978781e-01, 2.11849474e-05],\n",
       "       [9.98795033e-01, 1.20496575e-03],\n",
       "       [3.48809361e-02, 9.65119004e-01],\n",
       "       [9.25676338e-03, 9.90743220e-01],\n",
       "       [3.85757945e-02, 9.61424232e-01],\n",
       "       [8.82238499e-04, 9.99117792e-01],\n",
       "       [9.99918461e-01, 8.14795276e-05],\n",
       "       [9.00494028e-03, 9.90995109e-01],\n",
       "       [1.00000000e+00, 3.29015704e-11],\n",
       "       [9.99893188e-01, 1.06759617e-04],\n",
       "       [1.00000000e+00, 5.42988184e-15],\n",
       "       [1.98403373e-03, 9.98016000e-01],\n",
       "       [9.99975204e-01, 2.47831467e-05],\n",
       "       [2.71318108e-02, 9.72868145e-01],\n",
       "       [7.62197049e-03, 9.92377996e-01],\n",
       "       [9.99999523e-01, 5.14963233e-07],\n",
       "       [5.11269569e-01, 4.88730520e-01],\n",
       "       [1.00000000e+00, 5.14841642e-11],\n",
       "       [9.99419212e-01, 5.80849708e-04],\n",
       "       [4.44951188e-03, 9.95550513e-01],\n",
       "       [1.21389364e-03, 9.98786151e-01],\n",
       "       [9.14942801e-01, 8.50572512e-02],\n",
       "       [9.97926354e-01, 2.07357178e-03],\n",
       "       [9.99915123e-01, 8.48576383e-05],\n",
       "       [9.99999285e-01, 6.80867231e-07],\n",
       "       [2.43705860e-03, 9.97563004e-01],\n",
       "       [2.61961855e-03, 9.97380316e-01],\n",
       "       [1.03340286e-03, 9.98966575e-01],\n",
       "       [9.08192014e-04, 9.99091864e-01],\n",
       "       [2.21158154e-02, 9.77884173e-01],\n",
       "       [9.99971151e-01, 2.87988332e-05],\n",
       "       [1.77959546e-01, 8.22040439e-01],\n",
       "       [2.87436545e-01, 7.12563396e-01],\n",
       "       [1.62430238e-02, 9.83757019e-01],\n",
       "       [4.62373393e-03, 9.95376229e-01],\n",
       "       [9.99990463e-01, 9.59568206e-06],\n",
       "       [9.99909043e-01, 9.09044466e-05],\n",
       "       [9.97042835e-01, 2.95710121e-03],\n",
       "       [1.54872229e-02, 9.84512746e-01],\n",
       "       [1.00000000e+00, 3.14250443e-14],\n",
       "       [5.59544249e-04, 9.99440491e-01],\n",
       "       [9.99734938e-01, 2.65011127e-04],\n",
       "       [1.77559573e-02, 9.82244074e-01],\n",
       "       [9.99288917e-01, 7.11041910e-04],\n",
       "       [9.99961257e-01, 3.86868815e-05],\n",
       "       [3.32952850e-03, 9.96670544e-01],\n",
       "       [9.99999166e-01, 8.20418336e-07],\n",
       "       [9.30524245e-03, 9.90694761e-01],\n",
       "       [6.03533030e-01, 3.96466970e-01],\n",
       "       [4.41278378e-03, 9.95587230e-01],\n",
       "       [1.00000000e+00, 7.42419859e-09],\n",
       "       [9.98356879e-01, 1.64304231e-03]], dtype=float32)"
      ]
     },
     "execution_count": 105,
     "metadata": {},
     "output_type": "execute_result"
    }
   ],
   "source": [
    "y_pred"
   ]
  },
  {
   "cell_type": "code",
   "execution_count": 106,
   "metadata": {},
   "outputs": [],
   "source": [
    "import numpy as np\n",
    "y_pred = np.argmax(y_pred, axis=1)"
   ]
  },
  {
   "cell_type": "code",
   "execution_count": 107,
   "metadata": {},
   "outputs": [
    {
     "data": {
      "text/plain": [
       "array([0, 0, 1, 0, 0, 0, 0, 1, 1, 1, 1, 0, 1, 1, 1, 1, 1, 0, 0, 0, 0, 0,\n",
       "       1, 0, 0, 1, 0, 0, 0, 1, 0, 0, 0, 0, 1, 0, 1, 0, 0, 1, 0, 0, 0, 1,\n",
       "       1, 0, 0, 0, 1, 0, 1, 1, 1, 0, 0, 0, 1, 1, 1, 0, 0, 0, 0, 0, 0, 0,\n",
       "       1, 0, 0, 1, 0, 1, 1, 0, 1, 1, 0, 1, 0, 0, 0, 1, 0, 0, 1, 1, 1, 1,\n",
       "       0, 1, 0, 0, 0, 1, 0, 1, 1, 0, 0, 0, 0, 1, 1, 0, 0, 0, 0, 1, 1, 1,\n",
       "       1, 1, 0, 1, 1, 1, 1, 0, 0, 0, 1, 0, 1, 0, 1, 0, 0, 1, 0, 1, 0, 1,\n",
       "       0, 0], dtype=int64)"
      ]
     },
     "execution_count": 107,
     "metadata": {},
     "output_type": "execute_result"
    }
   ],
   "source": [
    "y_pred"
   ]
  },
  {
   "cell_type": "code",
   "execution_count": 108,
   "metadata": {},
   "outputs": [],
   "source": [
    "from tensorflow.keras.models import load_model\n",
    "from tensorflow.keras.preprocessing import image"
   ]
  },
  {
   "cell_type": "code",
   "execution_count": 109,
   "metadata": {},
   "outputs": [],
   "source": [
    "model=load_model('model_vgg19.h5')"
   ]
  },
  {
   "cell_type": "code",
   "execution_count": 110,
   "metadata": {},
   "outputs": [],
   "source": [
    "img=load_img('C:/Users/Lenovo/Desktop/Project/Malaria Disease detection using Deep Learning/Dataset/Test/Uninfected/2.png',target_size=(224,224))"
   ]
  },
  {
   "cell_type": "code",
   "execution_count": 111,
   "metadata": {},
   "outputs": [
    {
     "data": {
      "text/plain": [
       "array([[[0., 0., 0.],\n",
       "        [0., 0., 0.],\n",
       "        [0., 0., 0.],\n",
       "        ...,\n",
       "        [0., 0., 0.],\n",
       "        [0., 0., 0.],\n",
       "        [0., 0., 0.]],\n",
       "\n",
       "       [[0., 0., 0.],\n",
       "        [0., 0., 0.],\n",
       "        [0., 0., 0.],\n",
       "        ...,\n",
       "        [0., 0., 0.],\n",
       "        [0., 0., 0.],\n",
       "        [0., 0., 0.]],\n",
       "\n",
       "       [[0., 0., 0.],\n",
       "        [0., 0., 0.],\n",
       "        [0., 0., 0.],\n",
       "        ...,\n",
       "        [0., 0., 0.],\n",
       "        [0., 0., 0.],\n",
       "        [0., 0., 0.]],\n",
       "\n",
       "       ...,\n",
       "\n",
       "       [[0., 0., 0.],\n",
       "        [0., 0., 0.],\n",
       "        [0., 0., 0.],\n",
       "        ...,\n",
       "        [0., 0., 0.],\n",
       "        [0., 0., 0.],\n",
       "        [0., 0., 0.]],\n",
       "\n",
       "       [[0., 0., 0.],\n",
       "        [0., 0., 0.],\n",
       "        [0., 0., 0.],\n",
       "        ...,\n",
       "        [0., 0., 0.],\n",
       "        [0., 0., 0.],\n",
       "        [0., 0., 0.]],\n",
       "\n",
       "       [[0., 0., 0.],\n",
       "        [0., 0., 0.],\n",
       "        [0., 0., 0.],\n",
       "        ...,\n",
       "        [0., 0., 0.],\n",
       "        [0., 0., 0.],\n",
       "        [0., 0., 0.]]], dtype=float32)"
      ]
     },
     "execution_count": 111,
     "metadata": {},
     "output_type": "execute_result"
    }
   ],
   "source": [
    "x=image.img_to_array(img)\n",
    "x"
   ]
  },
  {
   "cell_type": "code",
   "execution_count": 112,
   "metadata": {},
   "outputs": [
    {
     "data": {
      "text/plain": [
       "(224, 224, 3)"
      ]
     },
     "execution_count": 112,
     "metadata": {},
     "output_type": "execute_result"
    }
   ],
   "source": [
    "x.shape"
   ]
  },
  {
   "cell_type": "code",
   "execution_count": 113,
   "metadata": {},
   "outputs": [],
   "source": [
    "x=x/255"
   ]
  },
  {
   "cell_type": "code",
   "execution_count": 114,
   "metadata": {},
   "outputs": [
    {
     "data": {
      "text/plain": [
       "(1, 224, 224, 3)"
      ]
     },
     "execution_count": 114,
     "metadata": {},
     "output_type": "execute_result"
    }
   ],
   "source": [
    "x=np.expand_dims(x,axis=0)\n",
    "img_data=preprocess_input(x)\n",
    "img_data.shape"
   ]
  },
  {
   "cell_type": "code",
   "execution_count": 115,
   "metadata": {},
   "outputs": [
    {
     "data": {
      "text/plain": [
       "array([[0., 1.]], dtype=float32)"
      ]
     },
     "execution_count": 115,
     "metadata": {},
     "output_type": "execute_result"
    }
   ],
   "source": [
    "model.predict(img_data)"
   ]
  },
  {
   "cell_type": "code",
   "execution_count": 116,
   "metadata": {},
   "outputs": [],
   "source": [
    "a = np.argmax(model.predict(img_data), axis=1)"
   ]
  },
  {
   "cell_type": "code",
   "execution_count": 117,
   "metadata": {},
   "outputs": [
    {
     "name": "stdout",
     "output_type": "stream",
     "text": [
      "uninfected\n"
     ]
    }
   ],
   "source": [
    "if(a==1):\n",
    "    print(\"uninfected\")\n",
    "else:\n",
    "    print(\"Infected\")"
   ]
  },
  {
   "cell_type": "code",
   "execution_count": null,
   "metadata": {},
   "outputs": [],
   "source": []
  },
  {
   "cell_type": "code",
   "execution_count": null,
   "metadata": {},
   "outputs": [],
   "source": []
  }
 ],
 "metadata": {
  "kernelspec": {
   "display_name": "Python 3",
   "language": "python",
   "name": "python3"
  },
  "language_info": {
   "codemirror_mode": {
    "name": "ipython",
    "version": 3
   },
   "file_extension": ".py",
   "mimetype": "text/x-python",
   "name": "python",
   "nbconvert_exporter": "python",
   "pygments_lexer": "ipython3",
   "version": "3.7.6"
  }
 },
 "nbformat": 4,
 "nbformat_minor": 4
}
